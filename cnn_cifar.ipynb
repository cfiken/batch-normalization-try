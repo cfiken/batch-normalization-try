{
 "cells": [
  {
   "cell_type": "code",
   "execution_count": 1,
   "metadata": {
    "ExecuteTime": {
     "end_time": "2018-06-03T15:57:51.672045Z",
     "start_time": "2018-06-03T15:57:42.992801Z"
    }
   },
   "outputs": [],
   "source": [
    "import tensorflow as tf\n",
    "import numpy as np\n",
    "import matplotlib.pyplot as plt\n",
    "import pickle"
   ]
  },
  {
   "cell_type": "code",
   "execution_count": 2,
   "metadata": {
    "ExecuteTime": {
     "end_time": "2018-06-03T15:57:51.679338Z",
     "start_time": "2018-06-03T15:57:51.675392Z"
    }
   },
   "outputs": [],
   "source": [
    "from typing import List, Tuple, Dict\n",
    "import math"
   ]
  },
  {
   "cell_type": "code",
   "execution_count": 3,
   "metadata": {
    "ExecuteTime": {
     "end_time": "2018-06-03T15:57:51.688315Z",
     "start_time": "2018-06-03T15:57:51.682417Z"
    }
   },
   "outputs": [],
   "source": [
    "myint = tf.int32\n",
    "myfloat = tf.float32"
   ]
  },
  {
   "cell_type": "code",
   "execution_count": 4,
   "metadata": {
    "ExecuteTime": {
     "end_time": "2018-06-03T15:57:51.699121Z",
     "start_time": "2018-06-03T15:57:51.692065Z"
    }
   },
   "outputs": [],
   "source": [
    "learning_rate = 0.001\n",
    "batch_size  =128\n",
    "num_epoch = 1000"
   ]
  },
  {
   "cell_type": "code",
   "execution_count": 5,
   "metadata": {
    "ExecuteTime": {
     "end_time": "2018-06-03T15:57:51.733618Z",
     "start_time": "2018-06-03T15:57:51.706892Z"
    }
   },
   "outputs": [],
   "source": [
    "shape_x = np.array([None, 32, 32, 3])\n",
    "shape_y = np.array([None])\n",
    "shape_1st_convolution = np.array([5, 5, 3, 32]) # with pad 2 stride 1\n",
    "shape_1st_layer = np.array([32, 32, 32])\n",
    "shape_2nd_pool = np.array([2, 2]) # with stride 2\n",
    "shape_2nd_layer = np.array([16, 16, 32])\n",
    "# 3rd normalization\n",
    "shape_4th_convolution = np.array([5, 5, 32, 64]) # with pad 2 stride 1\n",
    "shape_4th_layer = np.array([16, 16, 64])\n",
    "shape_5th_pool = np.array([2, 2])  # with stride 2\n",
    "shape_5th_layer = np.array([8, 8, 64])\n",
    "# 6th normalization\n",
    "shape_6th_dence = np.array([4096, 1024])  # 8*8*64\n",
    "shape_6th_layer = np.array([1024])\n",
    "shape_7th_weight = np.array([1024, 10])\n",
    "shape_7th_layer = np.array([10])  # output"
   ]
  },
  {
   "cell_type": "code",
   "execution_count": 6,
   "metadata": {
    "ExecuteTime": {
     "end_time": "2018-06-03T15:57:51.755497Z",
     "start_time": "2018-06-03T15:57:51.737868Z"
    }
   },
   "outputs": [],
   "source": [
    "def assert_shape(target: np.ndarray, shape):\n",
    "    if isinstance(shape, list):\n",
    "        shape = np.array(shape)\n",
    "    \n",
    "    assert isinstance(target, np.ndarray), \"target is not ndarray\"\n",
    "    assert isinstance(shape, np.ndarray), \"shape is not ndarray\"\n",
    "    \n",
    "    target_shape = target.shape\n",
    "    assert len(target_shape) == len(shape), 'dimension is not equal'\n",
    "    for (i, s) in enumerate(shape):\n",
    "        assert target_shape[i] == s, \"size of target[{}] is not {}\".format(i, s)"
   ]
  },
  {
   "cell_type": "code",
   "execution_count": 7,
   "metadata": {
    "ExecuteTime": {
     "end_time": "2018-06-03T15:57:51.927164Z",
     "start_time": "2018-06-03T15:57:51.758832Z"
    }
   },
   "outputs": [],
   "source": [
    "class DataLoader:\n",
    "    \n",
    "    def __init__(self):\n",
    "        self.data, self.labels = self._load_training_data()\n",
    "        self.test_data, self.test_labels = self._load_test_data()\n",
    "        self.epoch = 0\n",
    "        self.step = 0\n",
    "        \n",
    "    def num_step(self, batch_size: int) -> int:\n",
    "        return math.floor(len(self.data)/batch_size)\n",
    "        \n",
    "    def next_batch(self, batch_size: int):\n",
    "        data_size = len(self.data)\n",
    "        next_step = self.step + 1\n",
    "        if next_step * batch_size > data_size:\n",
    "            self.epoch += 1\n",
    "            self.step = 0\n",
    "        batch_data = self.data[self.step*batch_size:next_step*batch_size]\n",
    "        batch_labels = self.labels[self.step*batch_size:next_step*batch_size]\n",
    "        self.step += 1\n",
    "        return batch_data, batch_labels\n",
    "        \n",
    "    def _load_training_data(self):\n",
    "        path = 'data/cifar-10-batches-py/'\n",
    "        file_format = 'data_batch_{}'\n",
    "        train_data = []\n",
    "        train_labels = []\n",
    "        with open(path + file_format.format(1), 'r') as f:\n",
    "            for i in range(5):\n",
    "                data, labels = self._get_data_from_file(path + file_format.format(i+1))\n",
    "                train_data.extend(self._get_reshaped_data(data))\n",
    "                train_labels.extend(labels)\n",
    "        return np.array(train_data), np.array(train_labels)\n",
    "    \n",
    "    def _load_test_data(self):\n",
    "        filepath = 'data/cifar-10-batches-py/test_batch'\n",
    "        data, labels = self._get_data_from_file(filepath)\n",
    "        data = self._get_reshaped_data(data)\n",
    "        return data, np.array(labels)\n",
    "    \n",
    "    def _get_data_from_file(self, filepath):\n",
    "        f = open(filepath, 'rb')\n",
    "        raw_data = pickle.load(f, encoding='bytes')\n",
    "        data, labels = self._get_data_and_labels(raw_data)\n",
    "        return data, labels\n",
    "    \n",
    "    def _get_data_and_labels(self, dict_data):\n",
    "        data = dict_data[b'data']\n",
    "        labels = dict_data[b'labels']\n",
    "        return data, labels\n",
    "    \n",
    "    def _get_reshaped_data(self, data):\n",
    "        # 元データのshape check\n",
    "        original_data_shape = [10000, 32*32*3]\n",
    "        assert_shape(data, original_data_shape)\n",
    "\n",
    "        reshaped_data_shape = [10000, 32, 32, 3]\n",
    "        reshaped_data = np.reshape(data, [10000, 3, 32, 32])\n",
    "        reshaped_data = np.transpose(reshaped_data, [0, 2, 3, 1])\n",
    "\n",
    "        # 修正したデータのshape check\n",
    "        assert_shape(reshaped_data, reshaped_data_shape)\n",
    "        return reshaped_data"
   ]
  },
  {
   "cell_type": "code",
   "execution_count": 8,
   "metadata": {
    "ExecuteTime": {
     "end_time": "2018-06-03T15:57:53.020031Z",
     "start_time": "2018-06-03T15:57:51.930178Z"
    }
   },
   "outputs": [],
   "source": [
    "datasource = DataLoader()"
   ]
  },
  {
   "cell_type": "code",
   "execution_count": 9,
   "metadata": {
    "ExecuteTime": {
     "end_time": "2018-06-03T15:57:53.033678Z",
     "start_time": "2018-06-03T15:57:53.023244Z"
    }
   },
   "outputs": [
    {
     "name": "stdout",
     "output_type": "stream",
     "text": [
      "(50000, 32, 32, 3)\n",
      "(50000,)\n",
      "(10000,)\n",
      "390\n"
     ]
    }
   ],
   "source": [
    "print(datasource.data.shape)\n",
    "print(datasource.labels.shape)\n",
    "print(datasource.test_labels.shape)\n",
    "print(datasource.num_step(batch_size))"
   ]
  },
  {
   "cell_type": "markdown",
   "metadata": {},
   "source": [
    "# network"
   ]
  },
  {
   "cell_type": "code",
   "execution_count": 10,
   "metadata": {
    "ExecuteTime": {
     "end_time": "2018-06-03T15:57:53.087550Z",
     "start_time": "2018-06-03T15:57:53.037723Z"
    }
   },
   "outputs": [],
   "source": [
    "class CNN:\n",
    "    def __init__(self):\n",
    "        self.x = tf.placeholder(dtype=myfloat, shape=shape_x, name='x')\n",
    "        self.y = tf.placeholder(dtype=myint, shape=shape_y, name='y')\n",
    "        self.y_onehot = tf.one_hot(indices=tf.cast(self.y, myint), depth=10)\n",
    "        self.is_training = tf.placeholder(dtype=bool, name='is_training')\n",
    "        l_1 = tf.layers.conv2d(inputs=self.x,\n",
    "                                    filters=shape_1st_convolution[3],\n",
    "                                    kernel_size=shape_1st_convolution[0:2],\n",
    "                                    padding='same',\n",
    "                                    activation=tf.nn.relu)\n",
    "        l_2 = tf.layers.max_pooling2d(inputs=l_1, pool_size=[2, 2], strides=2)\n",
    "        l_4 = tf.layers.conv2d(inputs=l_2,\n",
    "                                     filters=shape_4th_convolution[3] ,\n",
    "                                     kernel_size=shape_4th_convolution[0:2],\n",
    "                                     padding='same',\n",
    "                                     activation=tf.nn.relu)\n",
    "        l_5 = tf.layers.max_pooling2d(inputs=l_4, pool_size=[2, 2], strides=2)\n",
    "        l_5_flat = tf.reshape(l_5, [-1, shape_6th_dence[0]])\n",
    "        l_6 = tf.layers.dense(inputs=l_5_flat, units=shape_6th_dence[1], activation=tf.nn.relu)\n",
    "        l_6 = tf.layers.dropout(inputs=l_6,\n",
    "                                     rate=0.4,\n",
    "                                     training=self.is_training)\n",
    "        l_7 = tf.layers.dense(inputs=l_6, units=shape_7th_weight[1])\n",
    "        self.logits = l_7\n",
    "\n",
    "        self.predicted_classes = tf.argmax(input=self.logits, axis=1, output_type=myint)\n",
    "        probs = tf.nn.softmax(self.logits)"
   ]
  },
  {
   "cell_type": "code",
   "execution_count": 11,
   "metadata": {
    "ExecuteTime": {
     "end_time": "2018-06-03T15:57:53.243634Z",
     "start_time": "2018-06-03T15:57:53.090404Z"
    }
   },
   "outputs": [],
   "source": [
    "cnn = CNN()"
   ]
  },
  {
   "cell_type": "code",
   "execution_count": 12,
   "metadata": {
    "ExecuteTime": {
     "end_time": "2018-06-03T15:57:53.252316Z",
     "start_time": "2018-06-03T15:57:53.246074Z"
    }
   },
   "outputs": [
    {
     "name": "stdout",
     "output_type": "stream",
     "text": [
      "(?, 10)\n",
      "(?,)\n"
     ]
    }
   ],
   "source": [
    "print(cnn.logits.get_shape())\n",
    "print(cnn.y.get_shape())"
   ]
  },
  {
   "cell_type": "code",
   "execution_count": 13,
   "metadata": {
    "ExecuteTime": {
     "end_time": "2018-06-03T15:57:53.554460Z",
     "start_time": "2018-06-03T15:57:53.256225Z"
    }
   },
   "outputs": [],
   "source": [
    "crossent = tf.nn.sparse_softmax_cross_entropy_with_logits(labels=cnn.y, logits=cnn.logits)\n",
    "loss_op = tf.reduce_mean(crossent)\n",
    "optimizer = tf.train.AdamOptimizer(learning_rate)\n",
    "train_op = optimizer.minimize(loss_op)\n",
    "correct = tf.equal(cnn.predicted_classes, cnn.y)\n",
    "acc_op = tf.reduce_mean(tf.cast(correct, myfloat))"
   ]
  },
  {
   "cell_type": "code",
   "execution_count": 14,
   "metadata": {
    "ExecuteTime": {
     "end_time": "2018-06-03T15:58:47.373990Z",
     "start_time": "2018-06-03T15:57:53.556633Z"
    }
   },
   "outputs": [
    {
     "name": "stdout",
     "output_type": "stream",
     "text": [
      "0/390 step, loss: 66.08597564697266\n",
      "10/390 step, loss: 2.3134851455688477\n",
      "20/390 step, loss: 2.299135208129883\n",
      "30/390 step, loss: 2.282447338104248\n",
      "40/390 step, loss: 2.293429374694824\n",
      "50/390 step, loss: 2.284641981124878\n",
      "60/390 step, loss: 2.2745251655578613\n",
      "70/390 step, loss: 2.2338578701019287\n",
      "80/390 step, loss: 2.216722011566162\n"
     ]
    },
    {
     "ename": "KeyboardInterrupt",
     "evalue": "",
     "output_type": "error",
     "traceback": [
      "\u001b[0;31m---------------------------------------------------------------------------\u001b[0m",
      "\u001b[0;31mKeyboardInterrupt\u001b[0m                         Traceback (most recent call last)",
      "\u001b[0;32m<ipython-input-14-b5ed8166f768>\u001b[0m in \u001b[0;36m<module>\u001b[0;34m()\u001b[0m\n\u001b[1;32m     11\u001b[0m                 \u001b[0mcnn\u001b[0m\u001b[0;34m.\u001b[0m\u001b[0mis_training\u001b[0m\u001b[0;34m:\u001b[0m \u001b[0;32mTrue\u001b[0m\u001b[0;34m\u001b[0m\u001b[0m\n\u001b[1;32m     12\u001b[0m             }\n\u001b[0;32m---> 13\u001b[0;31m             \u001b[0mloss\u001b[0m\u001b[0;34m,\u001b[0m \u001b[0m_\u001b[0m \u001b[0;34m=\u001b[0m \u001b[0msess\u001b[0m\u001b[0;34m.\u001b[0m\u001b[0mrun\u001b[0m\u001b[0;34m(\u001b[0m\u001b[0;34m[\u001b[0m\u001b[0mloss_op\u001b[0m\u001b[0;34m,\u001b[0m \u001b[0mtrain_op\u001b[0m\u001b[0;34m]\u001b[0m\u001b[0;34m,\u001b[0m \u001b[0mfeed_dict\u001b[0m\u001b[0;34m=\u001b[0m\u001b[0mfd\u001b[0m\u001b[0;34m)\u001b[0m\u001b[0;34m\u001b[0m\u001b[0m\n\u001b[0m\u001b[1;32m     14\u001b[0m             \u001b[0;32mif\u001b[0m \u001b[0ms\u001b[0m \u001b[0;34m%\u001b[0m \u001b[0;36m10\u001b[0m \u001b[0;34m==\u001b[0m \u001b[0;36m0\u001b[0m\u001b[0;34m:\u001b[0m\u001b[0;34m\u001b[0m\u001b[0m\n\u001b[1;32m     15\u001b[0m                 \u001b[0mprint\u001b[0m\u001b[0;34m(\u001b[0m\u001b[0;34m'{}/{} step, loss: {}'\u001b[0m\u001b[0;34m.\u001b[0m\u001b[0mformat\u001b[0m\u001b[0;34m(\u001b[0m\u001b[0ms\u001b[0m\u001b[0;34m,\u001b[0m \u001b[0mstep_size\u001b[0m\u001b[0;34m,\u001b[0m \u001b[0mloss\u001b[0m\u001b[0;34m)\u001b[0m\u001b[0;34m)\u001b[0m\u001b[0;34m\u001b[0m\u001b[0m\n",
      "\u001b[0;32m~/.anyenv/envs/pyenv/versions/3.6.2/envs/workspace/lib/python3.6/site-packages/tensorflow/python/client/session.py\u001b[0m in \u001b[0;36mrun\u001b[0;34m(self, fetches, feed_dict, options, run_metadata)\u001b[0m\n\u001b[1;32m    893\u001b[0m     \u001b[0;32mtry\u001b[0m\u001b[0;34m:\u001b[0m\u001b[0;34m\u001b[0m\u001b[0m\n\u001b[1;32m    894\u001b[0m       result = self._run(None, fetches, feed_dict, options_ptr,\n\u001b[0;32m--> 895\u001b[0;31m                          run_metadata_ptr)\n\u001b[0m\u001b[1;32m    896\u001b[0m       \u001b[0;32mif\u001b[0m \u001b[0mrun_metadata\u001b[0m\u001b[0;34m:\u001b[0m\u001b[0;34m\u001b[0m\u001b[0m\n\u001b[1;32m    897\u001b[0m         \u001b[0mproto_data\u001b[0m \u001b[0;34m=\u001b[0m \u001b[0mtf_session\u001b[0m\u001b[0;34m.\u001b[0m\u001b[0mTF_GetBuffer\u001b[0m\u001b[0;34m(\u001b[0m\u001b[0mrun_metadata_ptr\u001b[0m\u001b[0;34m)\u001b[0m\u001b[0;34m\u001b[0m\u001b[0m\n",
      "\u001b[0;32m~/.anyenv/envs/pyenv/versions/3.6.2/envs/workspace/lib/python3.6/site-packages/tensorflow/python/client/session.py\u001b[0m in \u001b[0;36m_run\u001b[0;34m(self, handle, fetches, feed_dict, options, run_metadata)\u001b[0m\n\u001b[1;32m   1126\u001b[0m     \u001b[0;32mif\u001b[0m \u001b[0mfinal_fetches\u001b[0m \u001b[0;32mor\u001b[0m \u001b[0mfinal_targets\u001b[0m \u001b[0;32mor\u001b[0m \u001b[0;34m(\u001b[0m\u001b[0mhandle\u001b[0m \u001b[0;32mand\u001b[0m \u001b[0mfeed_dict_tensor\u001b[0m\u001b[0;34m)\u001b[0m\u001b[0;34m:\u001b[0m\u001b[0;34m\u001b[0m\u001b[0m\n\u001b[1;32m   1127\u001b[0m       results = self._do_run(handle, final_targets, final_fetches,\n\u001b[0;32m-> 1128\u001b[0;31m                              feed_dict_tensor, options, run_metadata)\n\u001b[0m\u001b[1;32m   1129\u001b[0m     \u001b[0;32melse\u001b[0m\u001b[0;34m:\u001b[0m\u001b[0;34m\u001b[0m\u001b[0m\n\u001b[1;32m   1130\u001b[0m       \u001b[0mresults\u001b[0m \u001b[0;34m=\u001b[0m \u001b[0;34m[\u001b[0m\u001b[0;34m]\u001b[0m\u001b[0;34m\u001b[0m\u001b[0m\n",
      "\u001b[0;32m~/.anyenv/envs/pyenv/versions/3.6.2/envs/workspace/lib/python3.6/site-packages/tensorflow/python/client/session.py\u001b[0m in \u001b[0;36m_do_run\u001b[0;34m(self, handle, target_list, fetch_list, feed_dict, options, run_metadata)\u001b[0m\n\u001b[1;32m   1342\u001b[0m     \u001b[0;32mif\u001b[0m \u001b[0mhandle\u001b[0m \u001b[0;32mis\u001b[0m \u001b[0;32mNone\u001b[0m\u001b[0;34m:\u001b[0m\u001b[0;34m\u001b[0m\u001b[0m\n\u001b[1;32m   1343\u001b[0m       return self._do_call(_run_fn, self._session, feeds, fetches, targets,\n\u001b[0;32m-> 1344\u001b[0;31m                            options, run_metadata)\n\u001b[0m\u001b[1;32m   1345\u001b[0m     \u001b[0;32melse\u001b[0m\u001b[0;34m:\u001b[0m\u001b[0;34m\u001b[0m\u001b[0m\n\u001b[1;32m   1346\u001b[0m       \u001b[0;32mreturn\u001b[0m \u001b[0mself\u001b[0m\u001b[0;34m.\u001b[0m\u001b[0m_do_call\u001b[0m\u001b[0;34m(\u001b[0m\u001b[0m_prun_fn\u001b[0m\u001b[0;34m,\u001b[0m \u001b[0mself\u001b[0m\u001b[0;34m.\u001b[0m\u001b[0m_session\u001b[0m\u001b[0;34m,\u001b[0m \u001b[0mhandle\u001b[0m\u001b[0;34m,\u001b[0m \u001b[0mfeeds\u001b[0m\u001b[0;34m,\u001b[0m \u001b[0mfetches\u001b[0m\u001b[0;34m)\u001b[0m\u001b[0;34m\u001b[0m\u001b[0m\n",
      "\u001b[0;32m~/.anyenv/envs/pyenv/versions/3.6.2/envs/workspace/lib/python3.6/site-packages/tensorflow/python/client/session.py\u001b[0m in \u001b[0;36m_do_call\u001b[0;34m(self, fn, *args)\u001b[0m\n\u001b[1;32m   1348\u001b[0m   \u001b[0;32mdef\u001b[0m \u001b[0m_do_call\u001b[0m\u001b[0;34m(\u001b[0m\u001b[0mself\u001b[0m\u001b[0;34m,\u001b[0m \u001b[0mfn\u001b[0m\u001b[0;34m,\u001b[0m \u001b[0;34m*\u001b[0m\u001b[0margs\u001b[0m\u001b[0;34m)\u001b[0m\u001b[0;34m:\u001b[0m\u001b[0;34m\u001b[0m\u001b[0m\n\u001b[1;32m   1349\u001b[0m     \u001b[0;32mtry\u001b[0m\u001b[0;34m:\u001b[0m\u001b[0;34m\u001b[0m\u001b[0m\n\u001b[0;32m-> 1350\u001b[0;31m       \u001b[0;32mreturn\u001b[0m \u001b[0mfn\u001b[0m\u001b[0;34m(\u001b[0m\u001b[0;34m*\u001b[0m\u001b[0margs\u001b[0m\u001b[0;34m)\u001b[0m\u001b[0;34m\u001b[0m\u001b[0m\n\u001b[0m\u001b[1;32m   1351\u001b[0m     \u001b[0;32mexcept\u001b[0m \u001b[0merrors\u001b[0m\u001b[0;34m.\u001b[0m\u001b[0mOpError\u001b[0m \u001b[0;32mas\u001b[0m \u001b[0me\u001b[0m\u001b[0;34m:\u001b[0m\u001b[0;34m\u001b[0m\u001b[0m\n\u001b[1;32m   1352\u001b[0m       \u001b[0mmessage\u001b[0m \u001b[0;34m=\u001b[0m \u001b[0mcompat\u001b[0m\u001b[0;34m.\u001b[0m\u001b[0mas_text\u001b[0m\u001b[0;34m(\u001b[0m\u001b[0me\u001b[0m\u001b[0;34m.\u001b[0m\u001b[0mmessage\u001b[0m\u001b[0;34m)\u001b[0m\u001b[0;34m\u001b[0m\u001b[0m\n",
      "\u001b[0;32m~/.anyenv/envs/pyenv/versions/3.6.2/envs/workspace/lib/python3.6/site-packages/tensorflow/python/client/session.py\u001b[0m in \u001b[0;36m_run_fn\u001b[0;34m(session, feed_dict, fetch_list, target_list, options, run_metadata)\u001b[0m\n\u001b[1;32m   1327\u001b[0m           return tf_session.TF_Run(session, options,\n\u001b[1;32m   1328\u001b[0m                                    \u001b[0mfeed_dict\u001b[0m\u001b[0;34m,\u001b[0m \u001b[0mfetch_list\u001b[0m\u001b[0;34m,\u001b[0m \u001b[0mtarget_list\u001b[0m\u001b[0;34m,\u001b[0m\u001b[0;34m\u001b[0m\u001b[0m\n\u001b[0;32m-> 1329\u001b[0;31m                                    status, run_metadata)\n\u001b[0m\u001b[1;32m   1330\u001b[0m \u001b[0;34m\u001b[0m\u001b[0m\n\u001b[1;32m   1331\u001b[0m     \u001b[0;32mdef\u001b[0m \u001b[0m_prun_fn\u001b[0m\u001b[0;34m(\u001b[0m\u001b[0msession\u001b[0m\u001b[0;34m,\u001b[0m \u001b[0mhandle\u001b[0m\u001b[0;34m,\u001b[0m \u001b[0mfeed_dict\u001b[0m\u001b[0;34m,\u001b[0m \u001b[0mfetch_list\u001b[0m\u001b[0;34m)\u001b[0m\u001b[0;34m:\u001b[0m\u001b[0;34m\u001b[0m\u001b[0m\n",
      "\u001b[0;31mKeyboardInterrupt\u001b[0m: "
     ]
    }
   ],
   "source": [
    "with tf.Session() as sess:\n",
    "    sess.run(tf.global_variables_initializer())\n",
    "    \n",
    "    for i in range(num_epoch):\n",
    "        step_size = datasource.num_step(batch_size)\n",
    "        for s in range(step_size):\n",
    "            data, labels = datasource.next_batch(batch_size)\n",
    "            fd = {\n",
    "                cnn.x: data,\n",
    "                cnn.y: labels,\n",
    "                cnn.is_training: True\n",
    "            }\n",
    "            loss, _ = sess.run([loss_op, train_op], feed_dict=fd)\n",
    "            #if s % 10 == 0:\n",
    "            #    print('{}/{} step, loss: {}'.format(s, step_size, loss))\n",
    "        acc = sess.run(acc_op, feed_dict={\n",
    "            cnn.x: datasource.test_data,\n",
    "            cnn.y: datasource.test_labels,\n",
    "            cnn.is_training: False\n",
    "        })\n",
    "        print('{}/{} epoch, loss: {}, acc: {}'.format(i, num_epoch, loss, acc))"
   ]
  },
  {
   "cell_type": "code",
   "execution_count": null,
   "metadata": {
    "ExecuteTime": {
     "end_time": "2018-06-03T15:58:47.375062Z",
     "start_time": "2018-06-03T15:57:43.026Z"
    }
   },
   "outputs": [],
   "source": [
    "loss.shape"
   ]
  },
  {
   "cell_type": "code",
   "execution_count": null,
   "metadata": {},
   "outputs": [],
   "source": []
  }
 ],
 "metadata": {
  "kernelspec": {
   "display_name": "Python 3",
   "language": "python",
   "name": "python3"
  },
  "language_info": {
   "codemirror_mode": {
    "name": "ipython",
    "version": 3
   },
   "file_extension": ".py",
   "mimetype": "text/x-python",
   "name": "python",
   "nbconvert_exporter": "python",
   "pygments_lexer": "ipython3",
   "version": "3.6.2"
  },
  "widgets": {
   "application/vnd.jupyter.widget-state+json": {
    "state": {},
    "version_major": 2,
    "version_minor": 0
   }
  }
 },
 "nbformat": 4,
 "nbformat_minor": 2
}
