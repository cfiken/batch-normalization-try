{
 "cells": [
  {
   "cell_type": "code",
   "execution_count": 1,
   "metadata": {
    "ExecuteTime": {
     "end_time": "2018-06-05T14:38:55.075679Z",
     "start_time": "2018-06-05T14:38:54.429561Z"
    }
   },
   "outputs": [],
   "source": [
    "import tensorflow as tf\n",
    "import numpy as np\n",
    "import matplotlib.pyplot as plt\n",
    "import pickle"
   ]
  },
  {
   "cell_type": "code",
   "execution_count": 3,
   "metadata": {
    "ExecuteTime": {
     "end_time": "2018-06-05T14:39:08.575512Z",
     "start_time": "2018-06-05T14:39:08.569938Z"
    }
   },
   "outputs": [],
   "source": [
    "from typing import List, Tuple, Dict\n",
    "import math\n",
    "from models.cnn import CNN\n",
    "from data_loader.cifar10 import DataLoader\n",
    "from utils import helper"
   ]
  },
  {
   "cell_type": "code",
   "execution_count": null,
   "metadata": {
    "ExecuteTime": {
     "end_time": "2018-06-04T01:50:30.500036Z",
     "start_time": "2018-06-04T01:50:30.403608Z"
    }
   },
   "outputs": [],
   "source": [
    "myint = tf.int32\n",
    "myfloat = tf.float32"
   ]
  },
  {
   "cell_type": "code",
   "execution_count": null,
   "metadata": {
    "ExecuteTime": {
     "end_time": "2018-06-04T01:50:31.679717Z",
     "start_time": "2018-06-04T01:50:31.167145Z"
    }
   },
   "outputs": [],
   "source": [
    "datasource = DataLoader()"
   ]
  },
  {
   "cell_type": "code",
   "execution_count": null,
   "metadata": {
    "ExecuteTime": {
     "end_time": "2018-06-04T01:50:31.683423Z",
     "start_time": "2018-06-04T01:50:31.680708Z"
    }
   },
   "outputs": [],
   "source": [
    "print(datasource.data.shape)\n",
    "print(datasource.labels.shape)\n",
    "print(datasource.test_labels.shape)\n",
    "print(datasource.num_step(batch_size))"
   ]
  },
  {
   "cell_type": "markdown",
   "metadata": {},
   "source": [
    "# network"
   ]
  },
  {
   "cell_type": "code",
   "execution_count": null,
   "metadata": {
    "ExecuteTime": {
     "end_time": "2018-06-04T01:50:32.036302Z",
     "start_time": "2018-06-04T01:50:31.808934Z"
    }
   },
   "outputs": [],
   "source": [
    "cnn = CNN()"
   ]
  },
  {
   "cell_type": "code",
   "execution_count": null,
   "metadata": {
    "ExecuteTime": {
     "end_time": "2018-06-04T01:50:32.148579Z",
     "start_time": "2018-06-04T01:50:32.037456Z"
    }
   },
   "outputs": [],
   "source": [
    "crossent = tf.nn.sparse_softmax_cross_entropy_with_logits(labels=cnn.y, logits=cnn.logits)\n",
    "loss_op = tf.reduce_mean(crossent)\n",
    "optimizer = tf.train.AdamOptimizer(learning_rate)\n",
    "train_op = optimizer.minimize(loss_op)\n",
    "correct = tf.equal(cnn.predicted_classes, cnn.y)\n",
    "acc_op = tf.reduce_mean(tf.cast(correct, myfloat))"
   ]
  },
  {
   "cell_type": "code",
   "execution_count": null,
   "metadata": {
    "ExecuteTime": {
     "end_time": "2018-06-04T01:50:32.212932Z",
     "start_time": "2018-06-04T01:50:32.149668Z"
    }
   },
   "outputs": [],
   "source": [
    "with tf.name_scope('train'):\n",
    "    smr_loss = tf.summary.scalar('loss', loss_op)\n",
    "    smr_acc = tf.summary.scalar('accuracy', acc_op)\n",
    "    merged_summary = tf.summary.merge([smr_loss, smr_acc])\n",
    "\n",
    "with tf.name_scope('test'):\n",
    "    test_smr_acc = tf.summary.scalar('accuracy', acc_op)"
   ]
  },
  {
   "cell_type": "code",
   "execution_count": null,
   "metadata": {
    "ExecuteTime": {
     "end_time": "2018-06-04T01:50:32.337934Z",
     "start_time": "2018-06-04T01:50:32.214727Z"
    }
   },
   "outputs": [],
   "source": [
    "from datetime import datetime\n",
    "now = datetime.now()\n",
    "logdir_base = 'logs/'"
   ]
  },
  {
   "cell_type": "code",
   "execution_count": null,
   "metadata": {
    "ExecuteTime": {
     "end_time": "2018-06-04T02:00:33.181590Z",
     "start_time": "2018-06-04T01:50:32.343113Z"
    },
    "scrolled": true
   },
   "outputs": [],
   "source": [
    "logdir = logdir_base + now.strftime(\"%Y%m%d-%H%M%S\") + \"/\"\n",
    "with tf.Session() as sess:\n",
    "    writer = tf.summary.FileWriter(logdir, sess.graph)\n",
    "    sess.run(tf.global_variables_initializer())\n",
    "    \n",
    "    global_step = 0\n",
    "    for i in range(num_epoch):\n",
    "        step_size = datasource.num_step(batch_size)\n",
    "        for s in range(step_size):\n",
    "            data, labels = datasource.next_batch(batch_size)\n",
    "            fd = {\n",
    "                cnn.x: data,\n",
    "                cnn.y: labels,\n",
    "                cnn.is_training: True\n",
    "            }\n",
    "            loss, _, acc, smr = sess.run([loss_op, train_op, acc_op, merged_summary], feed_dict=fd)\n",
    "            if s % num_print_step == 0:\n",
    "                writer.add_summary(smr, global_step)\n",
    "                print('{} steps, train accuracy: {:.6f}, loss: {:.6f}'.format(global_step, acc, loss))\n",
    "                test_acc, test_smr = sess.run([acc_op, test_smr_acc], feed_dict={\n",
    "                    cnn.x: datasource.test_data,\n",
    "                    cnn.y: datasource.test_labels,\n",
    "                    cnn.is_training: False\n",
    "                })\n",
    "                writer.add_summary(test_smr, global_step)\n",
    "            global_step += 1\n",
    "        print('{} steps, test accuracy:  {:.6f}, loss: {:.6f} ({}/{} epochs)'.format(global_step, test_acc, loss, i, num_epoch))"
   ]
  },
  {
   "cell_type": "code",
   "execution_count": null,
   "metadata": {},
   "outputs": [],
   "source": []
  }
 ],
 "metadata": {
  "kernelspec": {
   "display_name": "Python 3",
   "language": "python",
   "name": "python3"
  },
  "language_info": {
   "codemirror_mode": {
    "name": "ipython",
    "version": 3
   },
   "file_extension": ".py",
   "mimetype": "text/x-python",
   "name": "python",
   "nbconvert_exporter": "python",
   "pygments_lexer": "ipython3",
   "version": "3.5.2"
  },
  "widgets": {
   "application/vnd.jupyter.widget-state+json": {
    "state": {},
    "version_major": 2,
    "version_minor": 0
   }
  }
 },
 "nbformat": 4,
 "nbformat_minor": 2
}
