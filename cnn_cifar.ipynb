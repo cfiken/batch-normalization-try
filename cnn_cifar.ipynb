{
 "cells": [
  {
   "cell_type": "code",
   "execution_count": 1,
   "metadata": {
    "ExecuteTime": {
     "end_time": "2018-06-03T16:38:46.898164Z",
     "start_time": "2018-06-03T16:38:46.228062Z"
    }
   },
   "outputs": [],
   "source": [
    "import tensorflow as tf\n",
    "import numpy as np\n",
    "import matplotlib.pyplot as plt\n",
    "import pickle"
   ]
  },
  {
   "cell_type": "code",
   "execution_count": 2,
   "metadata": {
    "ExecuteTime": {
     "end_time": "2018-06-03T16:38:46.900958Z",
     "start_time": "2018-06-03T16:38:46.899266Z"
    }
   },
   "outputs": [],
   "source": [
    "from typing import List, Tuple, Dict\n",
    "import math"
   ]
  },
  {
   "cell_type": "code",
   "execution_count": 3,
   "metadata": {
    "ExecuteTime": {
     "end_time": "2018-06-03T16:38:47.006984Z",
     "start_time": "2018-06-03T16:38:46.901929Z"
    }
   },
   "outputs": [],
   "source": [
    "myint = tf.int32\n",
    "myfloat = tf.float32"
   ]
  },
  {
   "cell_type": "code",
   "execution_count": 4,
   "metadata": {
    "ExecuteTime": {
     "end_time": "2018-06-03T16:38:47.124259Z",
     "start_time": "2018-06-03T16:38:47.012413Z"
    }
   },
   "outputs": [],
   "source": [
    "learning_rate = 0.001\n",
    "batch_size  =128\n",
    "num_epoch = 1000\n",
    "num_print_step = 50"
   ]
  },
  {
   "cell_type": "code",
   "execution_count": 5,
   "metadata": {
    "ExecuteTime": {
     "end_time": "2018-06-03T16:38:47.240161Z",
     "start_time": "2018-06-03T16:38:47.129271Z"
    }
   },
   "outputs": [],
   "source": [
    "shape_x = np.array([None, 32, 32, 3])\n",
    "shape_y = np.array([None])\n",
    "shape_1st_convolution = np.array([5, 5, 3, 32]) # with pad 2 stride 1\n",
    "shape_1st_layer = np.array([32, 32, 32])\n",
    "shape_2nd_pool = np.array([2, 2]) # with stride 2\n",
    "shape_2nd_layer = np.array([16, 16, 32])\n",
    "# 3rd normalization\n",
    "shape_4th_convolution = np.array([5, 5, 32, 64]) # with pad 2 stride 1\n",
    "shape_4th_layer = np.array([16, 16, 64])\n",
    "shape_5th_pool = np.array([2, 2])  # with stride 2\n",
    "shape_5th_layer = np.array([8, 8, 64])\n",
    "# 6th normalization\n",
    "shape_6th_dence = np.array([4096, 1024])  # 8*8*64\n",
    "shape_6th_layer = np.array([1024])\n",
    "shape_7th_weight = np.array([1024, 10])\n",
    "shape_7th_layer = np.array([10])  # output"
   ]
  },
  {
   "cell_type": "code",
   "execution_count": 6,
   "metadata": {
    "ExecuteTime": {
     "end_time": "2018-06-03T16:38:47.381583Z",
     "start_time": "2018-06-03T16:38:47.244746Z"
    }
   },
   "outputs": [],
   "source": [
    "def assert_shape(target: np.ndarray, shape):\n",
    "    if isinstance(shape, list):\n",
    "        shape = np.array(shape)\n",
    "    \n",
    "    assert isinstance(target, np.ndarray), \"target is not ndarray\"\n",
    "    assert isinstance(shape, np.ndarray), \"shape is not ndarray\"\n",
    "    \n",
    "    target_shape = target.shape\n",
    "    assert len(target_shape) == len(shape), 'dimension is not equal'\n",
    "    for (i, s) in enumerate(shape):\n",
    "        assert target_shape[i] == s, \"size of target[{}] is not {}\".format(i, s)"
   ]
  },
  {
   "cell_type": "code",
   "execution_count": 7,
   "metadata": {
    "ExecuteTime": {
     "end_time": "2018-06-03T16:38:47.513711Z",
     "start_time": "2018-06-03T16:38:47.385974Z"
    }
   },
   "outputs": [],
   "source": [
    "class DataLoader:\n",
    "    \n",
    "    def __init__(self):\n",
    "        self.data, self.labels = self._load_training_data()\n",
    "        self.test_data, self.test_labels = self._load_test_data()\n",
    "        self.epoch = 0\n",
    "        self.step = 0\n",
    "        \n",
    "    def num_step(self, batch_size: int) -> int:\n",
    "        return math.floor(len(self.data)/batch_size)\n",
    "        \n",
    "    def next_batch(self, batch_size: int):\n",
    "        data_size = len(self.data)\n",
    "        next_step = self.step + 1\n",
    "        if next_step * batch_size > data_size:\n",
    "            self.epoch += 1\n",
    "            self.step = 0\n",
    "            next_step = 1\n",
    "        batch_data = self.data[self.step*batch_size:next_step*batch_size]\n",
    "        batch_labels = self.labels[self.step*batch_size:next_step*batch_size]\n",
    "        self.step += 1\n",
    "        return batch_data, batch_labels\n",
    "        \n",
    "    def _load_training_data(self):\n",
    "        path = 'data/cifar-10-batches-py/'\n",
    "        file_format = 'data_batch_{}'\n",
    "        train_data = []\n",
    "        train_labels = []\n",
    "        with open(path + file_format.format(1), 'r') as f:\n",
    "            for i in range(5):\n",
    "                data, labels = self._get_data_from_file(path + file_format.format(i+1))\n",
    "                train_data.extend(self._get_reshaped_data(data))\n",
    "                train_labels.extend(labels)\n",
    "        return np.array(train_data), np.array(train_labels)\n",
    "    \n",
    "    def _load_test_data(self):\n",
    "        filepath = 'data/cifar-10-batches-py/test_batch'\n",
    "        data, labels = self._get_data_from_file(filepath)\n",
    "        data = self._get_reshaped_data(data)\n",
    "        return data, np.array(labels)\n",
    "    \n",
    "    def _get_data_from_file(self, filepath):\n",
    "        f = open(filepath, 'rb')\n",
    "        raw_data = pickle.load(f, encoding='bytes')\n",
    "        data, labels = self._get_data_and_labels(raw_data)\n",
    "        return data, labels\n",
    "    \n",
    "    def _get_data_and_labels(self, dict_data):\n",
    "        data = dict_data[b'data']\n",
    "        labels = dict_data[b'labels']\n",
    "        return data, labels\n",
    "    \n",
    "    def _get_reshaped_data(self, data):\n",
    "        # 元データのshape check\n",
    "        original_data_shape = [10000, 32*32*3]\n",
    "        assert_shape(data, original_data_shape)\n",
    "\n",
    "        reshaped_data_shape = [10000, 32, 32, 3]\n",
    "        reshaped_data = np.reshape(data, [10000, 3, 32, 32])\n",
    "        reshaped_data = np.transpose(reshaped_data, [0, 2, 3, 1])\n",
    "\n",
    "        # 修正したデータのshape check\n",
    "        assert_shape(reshaped_data, reshaped_data_shape)\n",
    "        return reshaped_data"
   ]
  },
  {
   "cell_type": "code",
   "execution_count": 8,
   "metadata": {
    "ExecuteTime": {
     "end_time": "2018-06-03T16:38:48.002236Z",
     "start_time": "2018-06-03T16:38:47.514736Z"
    }
   },
   "outputs": [],
   "source": [
    "datasource = DataLoader()"
   ]
  },
  {
   "cell_type": "code",
   "execution_count": 9,
   "metadata": {
    "ExecuteTime": {
     "end_time": "2018-06-03T16:38:48.006137Z",
     "start_time": "2018-06-03T16:38:48.003427Z"
    }
   },
   "outputs": [
    {
     "name": "stdout",
     "output_type": "stream",
     "text": [
      "(50000, 32, 32, 3)\n",
      "(50000,)\n",
      "(10000,)\n",
      "390\n"
     ]
    }
   ],
   "source": [
    "print(datasource.data.shape)\n",
    "print(datasource.labels.shape)\n",
    "print(datasource.test_labels.shape)\n",
    "print(datasource.num_step(batch_size))"
   ]
  },
  {
   "cell_type": "markdown",
   "metadata": {},
   "source": [
    "# network"
   ]
  },
  {
   "cell_type": "code",
   "execution_count": 10,
   "metadata": {
    "ExecuteTime": {
     "end_time": "2018-06-03T16:38:48.142438Z",
     "start_time": "2018-06-03T16:38:48.007093Z"
    }
   },
   "outputs": [],
   "source": [
    "class CNN:\n",
    "    def __init__(self):\n",
    "        self.x = tf.placeholder(dtype=myfloat, shape=shape_x, name='x')\n",
    "        self.y = tf.placeholder(dtype=myint, shape=shape_y, name='y')\n",
    "        self.y_onehot = tf.one_hot(indices=tf.cast(self.y, myint), depth=10)\n",
    "        self.is_training = tf.placeholder(dtype=bool, name='is_training')\n",
    "        l_1 = tf.layers.conv2d(inputs=self.x,\n",
    "                                    filters=shape_1st_convolution[3],\n",
    "                                    kernel_size=shape_1st_convolution[0:2],\n",
    "                                    padding='same',\n",
    "                                    activation=tf.nn.relu)\n",
    "        l_2 = tf.layers.max_pooling2d(inputs=l_1, pool_size=[2, 2], strides=2)\n",
    "        l_4 = tf.layers.conv2d(inputs=l_2,\n",
    "                                     filters=shape_4th_convolution[3] ,\n",
    "                                     kernel_size=shape_4th_convolution[0:2],\n",
    "                                     padding='same',\n",
    "                                     activation=tf.nn.relu)\n",
    "        l_5 = tf.layers.max_pooling2d(inputs=l_4, pool_size=[2, 2], strides=2)\n",
    "        l_5_flat = tf.reshape(l_5, [-1, shape_6th_dence[0]])\n",
    "        l_6 = tf.layers.dense(inputs=l_5_flat, units=shape_6th_dence[1], activation=tf.nn.relu)\n",
    "        l_6 = tf.layers.dropout(inputs=l_6,\n",
    "                                     rate=0.4,\n",
    "                                     training=self.is_training)\n",
    "        l_7 = tf.layers.dense(inputs=l_6, units=shape_7th_weight[1])\n",
    "        self.logits = l_7\n",
    "\n",
    "        self.predicted_classes = tf.argmax(input=self.logits, axis=1, output_type=myint)\n",
    "        probs = tf.nn.softmax(self.logits)"
   ]
  },
  {
   "cell_type": "code",
   "execution_count": 11,
   "metadata": {
    "ExecuteTime": {
     "end_time": "2018-06-03T16:38:48.352244Z",
     "start_time": "2018-06-03T16:38:48.147112Z"
    }
   },
   "outputs": [],
   "source": [
    "cnn = CNN()"
   ]
  },
  {
   "cell_type": "code",
   "execution_count": 12,
   "metadata": {
    "ExecuteTime": {
     "end_time": "2018-06-03T16:38:48.435260Z",
     "start_time": "2018-06-03T16:38:48.353494Z"
    }
   },
   "outputs": [],
   "source": [
    "crossent = tf.nn.sparse_softmax_cross_entropy_with_logits(labels=cnn.y, logits=cnn.logits)\n",
    "loss_op = tf.reduce_mean(crossent)\n",
    "optimizer = tf.train.AdamOptimizer(learning_rate)\n",
    "train_op = optimizer.minimize(loss_op)\n",
    "correct = tf.equal(cnn.predicted_classes, cnn.y)\n",
    "acc_op = tf.reduce_mean(tf.cast(correct, myfloat))"
   ]
  },
  {
   "cell_type": "code",
   "execution_count": 13,
   "metadata": {
    "ExecuteTime": {
     "end_time": "2018-06-03T16:38:48.520727Z",
     "start_time": "2018-06-03T16:38:48.436269Z"
    }
   },
   "outputs": [],
   "source": [
    "with tf.name_scope('train'):\n",
    "    smr_loss = tf.summary.scalar('loss', loss_op)\n",
    "    smr_acc = tf.summary.scalar('accuracy', acc_op)\n",
    "    merged_summary = tf.summary.merge([smr_loss, smr_acc])\n",
    "\n",
    "with tf.name_scope('test'):\n",
    "    test_smr_acc = tf.summary.scalar('accuracy', acc_op)"
   ]
  },
  {
   "cell_type": "code",
   "execution_count": 14,
   "metadata": {
    "ExecuteTime": {
     "end_time": "2018-06-03T16:38:48.651168Z",
     "start_time": "2018-06-03T16:38:48.524178Z"
    }
   },
   "outputs": [],
   "source": [
    "from datetime import datetime\n",
    "now = datetime.now()\n",
    "logdir_base = 'logs/'"
   ]
  },
  {
   "cell_type": "code",
   "execution_count": null,
   "metadata": {
    "ExecuteTime": {
     "start_time": "2018-06-03T16:44:37.934Z"
    }
   },
   "outputs": [
    {
     "name": "stdout",
     "output_type": "stream",
     "text": [
      "0 steps, train accuracy: 0.109375, loss: 97.801620\n",
      "50 steps, train accuracy: 0.226562, loss: 2.114014\n",
      "100 steps, train accuracy: 0.289062, loss: 2.085953\n",
      "150 steps, train accuracy: 0.210938, loss: 2.071907\n",
      "200 steps, train accuracy: 0.273438, loss: 1.969668\n",
      "250 steps, train accuracy: 0.312500, loss: 1.972003\n",
      "300 steps, train accuracy: 0.343750, loss: 1.954765\n",
      "350 steps, train accuracy: 0.335938, loss: 1.853687\n",
      "390 steps, test accuracy:  0.319800, loss: 1.957747 (0/1000 epochs)\n",
      "390 steps, train accuracy: 0.289062, loss: 1.961276\n",
      "440 steps, train accuracy: 0.351562, loss: 1.838712\n",
      "490 steps, train accuracy: 0.320312, loss: 1.762816\n",
      "540 steps, train accuracy: 0.281250, loss: 1.809415\n",
      "590 steps, train accuracy: 0.367188, loss: 1.646692\n",
      "640 steps, train accuracy: 0.335938, loss: 1.814710\n",
      "690 steps, train accuracy: 0.429688, loss: 1.720009\n",
      "740 steps, train accuracy: 0.421875, loss: 1.697328\n",
      "780 steps, test accuracy:  0.397300, loss: 1.618572 (1/1000 epochs)\n",
      "780 steps, train accuracy: 0.367188, loss: 1.683280\n",
      "830 steps, train accuracy: 0.421875, loss: 1.575769\n",
      "880 steps, train accuracy: 0.359375, loss: 1.654857\n",
      "930 steps, train accuracy: 0.453125, loss: 1.502900\n",
      "980 steps, train accuracy: 0.421875, loss: 1.507165\n",
      "1030 steps, train accuracy: 0.414062, loss: 1.665900\n",
      "1080 steps, train accuracy: 0.476562, loss: 1.558440\n",
      "1130 steps, train accuracy: 0.437500, loss: 1.584010\n",
      "1170 steps, test accuracy:  0.453100, loss: 1.491961 (2/1000 epochs)\n",
      "1170 steps, train accuracy: 0.476562, loss: 1.499646\n",
      "1220 steps, train accuracy: 0.523438, loss: 1.411502\n",
      "1270 steps, train accuracy: 0.453125, loss: 1.544388\n",
      "1320 steps, train accuracy: 0.476562, loss: 1.547029\n",
      "1370 steps, train accuracy: 0.445312, loss: 1.368518\n",
      "1420 steps, train accuracy: 0.492188, loss: 1.437479\n",
      "1470 steps, train accuracy: 0.476562, loss: 1.468898\n"
     ]
    }
   ],
   "source": [
    "logdir = logdir_base + now.strftime(\"%Y%m%d-%H%M%S\") + \"/\"\n",
    "with tf.Session() as sess:\n",
    "    writer = tf.summary.FileWriter(logdir, sess.graph)\n",
    "    sess.run(tf.global_variables_initializer())\n",
    "    \n",
    "    global_step = 0\n",
    "    for i in range(num_epoch):\n",
    "        step_size = datasource.num_step(batch_size)\n",
    "        for s in range(step_size):\n",
    "            data, labels = datasource.next_batch(batch_size)\n",
    "            fd = {\n",
    "                cnn.x: data,\n",
    "                cnn.y: labels,\n",
    "                cnn.is_training: True\n",
    "            }\n",
    "            loss, _, acc, smr = sess.run([loss_op, train_op, acc_op, merged_summary], feed_dict=fd)\n",
    "            if s % num_print_step == 0:\n",
    "                writer.add_summary(smr, global_step)\n",
    "                print('{} steps, train accuracy: {:.6f}, loss: {:.6f}'.format(global_step, acc, loss))\n",
    "                test_acc, test_smr = sess.run([acc_op, test_smr_acc], feed_dict={\n",
    "                    cnn.x: datasource.test_data,\n",
    "                    cnn.y: datasource.test_labels,\n",
    "                    cnn.is_training: False\n",
    "                })\n",
    "                writer.add_summary(test_smr, global_step)\n",
    "            global_step += 1\n",
    "        print('{} steps, test accuracy:  {:.6f}, loss: {:.6f} ({}/{} epochs)'.format(global_step, test_acc, loss, i, num_epoch))"
   ]
  },
  {
   "cell_type": "code",
   "execution_count": null,
   "metadata": {},
   "outputs": [],
   "source": []
  },
  {
   "cell_type": "code",
   "execution_count": null,
   "metadata": {},
   "outputs": [],
   "source": []
  }
 ],
 "metadata": {
  "kernelspec": {
   "display_name": "Python 3",
   "language": "python",
   "name": "python3"
  },
  "language_info": {
   "codemirror_mode": {
    "name": "ipython",
    "version": 3
   },
   "file_extension": ".py",
   "mimetype": "text/x-python",
   "name": "python",
   "nbconvert_exporter": "python",
   "pygments_lexer": "ipython3",
   "version": "3.5.2"
  },
  "widgets": {
   "application/vnd.jupyter.widget-state+json": {
    "state": {},
    "version_major": 2,
    "version_minor": 0
   }
  }
 },
 "nbformat": 4,
 "nbformat_minor": 2
}
