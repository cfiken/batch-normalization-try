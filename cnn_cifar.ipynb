{
 "cells": [
  {
   "cell_type": "code",
   "execution_count": 1,
   "metadata": {
    "ExecuteTime": {
     "end_time": "2018-06-03T09:26:52.723907Z",
     "start_time": "2018-06-03T09:26:34.934028Z"
    }
   },
   "outputs": [],
   "source": [
    "import tensorflow as tf\n",
    "import numpy as np\n",
    "import matplotlib.pyplot as plt\n",
    "import pickle"
   ]
  },
  {
   "cell_type": "code",
   "execution_count": 2,
   "metadata": {
    "ExecuteTime": {
     "end_time": "2018-06-03T09:26:52.730190Z",
     "start_time": "2018-06-03T09:26:52.726704Z"
    }
   },
   "outputs": [],
   "source": [
    "from typing import List, Tuple, Dict"
   ]
  },
  {
   "cell_type": "code",
   "execution_count": 3,
   "metadata": {
    "ExecuteTime": {
     "end_time": "2018-06-03T09:26:52.739687Z",
     "start_time": "2018-06-03T09:26:52.734620Z"
    }
   },
   "outputs": [],
   "source": [
    "myint = tf.int32\n",
    "myfloat = tf.float32"
   ]
  },
  {
   "cell_type": "code",
   "execution_count": 4,
   "metadata": {
    "ExecuteTime": {
     "end_time": "2018-06-03T09:26:52.775359Z",
     "start_time": "2018-06-03T09:26:52.743931Z"
    }
   },
   "outputs": [
    {
     "ename": "SyntaxError",
     "evalue": "invalid syntax (<ipython-input-4-e9f52c98e358>, line 3)",
     "output_type": "error",
     "traceback": [
      "\u001b[0;36m  File \u001b[0;32m\"<ipython-input-4-e9f52c98e358>\"\u001b[0;36m, line \u001b[0;32m3\u001b[0m\n\u001b[0;31m    1st_convolution_shape = np.array([5, 5, 3, 32]) # with pad 2 stride 1\u001b[0m\n\u001b[0m                        ^\u001b[0m\n\u001b[0;31mSyntaxError\u001b[0m\u001b[0;31m:\u001b[0m invalid syntax\n"
     ]
    }
   ],
   "source": [
    "x_shape = np.array([32, 32, 3])\n",
    "y_shape = np.array([10])\n",
    "1st_convolution_shape = np.array([5, 5, 3, 32]) # with pad 2 stride 1\n",
    "1st_layer_shape = np.array([32, 32, 32])\n",
    "2nd_pool_shape = np.array([2, 2]) # with stride 2\n",
    "2nd_layer_shape = np.array([16, 16, 32])\n",
    "# 3rd normalization\n",
    "4th_convolution_shape = np.array([5, 5, 32, 64]) # with pad 2 stride 1\n",
    "4th_layer_shape = np.array([16, 16, 64])\n",
    "5th_pool_shape = np.array([2, 2])  # with stride 2\n",
    "5th_layer_shape = np.array([8, 8, 64])\n",
    "# 6th normalization\n",
    "6th_dence_shape = np.array([4096, 1024])  # 8*8*64\n",
    "6th_layer_shape = np.array([1024])\n",
    "7th_weight_shape = np.array([1024, 10])\n",
    "7th_layer_shape = np.array([10])  # output"
   ]
  },
  {
   "cell_type": "code",
   "execution_count": null,
   "metadata": {
    "ExecuteTime": {
     "end_time": "2018-06-03T09:26:52.776719Z",
     "start_time": "2018-06-03T09:26:36.270Z"
    }
   },
   "outputs": [],
   "source": [
    "class DataLoader:\n",
    "    \n",
    "    def __init__(self):\n",
    "        self.data, self.labels = self._load_data()\n",
    "        \n",
    "    def _load_data(self):\n",
    "        path = 'data/cifar-10-batches-py/'\n",
    "        file_format = 'data_batch_{}'\n",
    "        train_data = []\n",
    "        train_labels = []\n",
    "        with open(path + file_format.format(1), 'r') as f:\n",
    "            for i in range(5):\n",
    "                f = open(path + file_format.format(i+1), 'rb')\n",
    "                data = pickle.load(f, encoding='bytes')\n",
    "                data, labels = self._prepare_train_data(data)\n",
    "                train_data.append(self._get_reshaped_data(data))\n",
    "                train_labels.append(labels)\n",
    "        return train_data, train_labels\n",
    "    \n",
    "    def _prepare_train_data(self, dict_data):\n",
    "        data = dict_data[b'data']\n",
    "        labels = dict_data[b'labels']\n",
    "        return data, labels\n",
    "    \n",
    "    def _get_reshaped_data(self, data):\n",
    "        # 元データのshape check\n",
    "        original_data_shape = [10000, 32*32*3]\n",
    "        assert_shape(data, original_data_shape)\n",
    "\n",
    "        reshaped_data_shape = [10000, 32, 32, 3]\n",
    "        reshaped_data = np.reshape(data, [10000, 3, 32, 32])\n",
    "        reshaped_data = np.transpose(reshaped_data, [0, 2, 3, 1])\n",
    "\n",
    "        # 修正したデータのshape check\n",
    "        assert_shape(reshaped_data, reshaped_data_shape)\n",
    "        return reshaped_data"
   ]
  },
  {
   "cell_type": "code",
   "execution_count": null,
   "metadata": {
    "ExecuteTime": {
     "end_time": "2018-06-03T09:26:52.778310Z",
     "start_time": "2018-06-03T09:26:36.870Z"
    }
   },
   "outputs": [],
   "source": [
    "datasource = DataLoader()"
   ]
  },
  {
   "cell_type": "code",
   "execution_count": null,
   "metadata": {
    "ExecuteTime": {
     "end_time": "2018-06-03T09:26:52.782095Z",
     "start_time": "2018-06-03T09:26:38.504Z"
    }
   },
   "outputs": [],
   "source": [
    "def assert_shape(target: np.ndarray, shape):\n",
    "    if isinstance(shape, list):\n",
    "        shape = np.array(shape)\n",
    "    \n",
    "    assert isinstance(target, np.ndarray), \"target is not ndarray\"\n",
    "    assert isinstance(shape, np.ndarray), \"shape is not ndarray\"\n",
    "    \n",
    "    target_shape = target.shape\n",
    "    assert len(target_shape) == len(shape), 'dimension is not equal'\n",
    "    for (i, s) in enumerate(shape):\n",
    "        assert target_shape[i] == s, \"size of target[{}] is not {}\".format(i, s)"
   ]
  },
  {
   "cell_type": "code",
   "execution_count": null,
   "metadata": {
    "ExecuteTime": {
     "end_time": "2018-06-03T09:26:52.784201Z",
     "start_time": "2018-06-03T09:26:39.206Z"
    }
   },
   "outputs": [],
   "source": [
    "print(datasource.data[0].shape)\n",
    "print(len(datasource.labels[0]))"
   ]
  },
  {
   "cell_type": "markdown",
   "metadata": {},
   "source": [
    "# network"
   ]
  },
  {
   "cell_type": "code",
   "execution_count": null,
   "metadata": {
    "ExecuteTime": {
     "end_time": "2018-06-03T09:26:52.786133Z",
     "start_time": "2018-06-03T09:26:41.230Z"
    }
   },
   "outputs": [],
   "source": [
    "x = tf.placeholder(dtype=myfloat, shape=x_shape, name='x')\n",
    "y = tf.placeholder(dtype=myint, shape=y_shape, name='y')"
   ]
  },
  {
   "cell_type": "code",
   "execution_count": null,
   "metadata": {},
   "outputs": [],
   "source": []
  }
 ],
 "metadata": {
  "kernelspec": {
   "display_name": "Python 3",
   "language": "python",
   "name": "python3"
  },
  "language_info": {
   "codemirror_mode": {
    "name": "ipython",
    "version": 3
   },
   "file_extension": ".py",
   "mimetype": "text/x-python",
   "name": "python",
   "nbconvert_exporter": "python",
   "pygments_lexer": "ipython3",
   "version": "3.6.2"
  },
  "widgets": {
   "application/vnd.jupyter.widget-state+json": {
    "state": {},
    "version_major": 2,
    "version_minor": 0
   }
  }
 },
 "nbformat": 4,
 "nbformat_minor": 2
}
